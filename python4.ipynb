{
  "nbformat": 4,
  "nbformat_minor": 0,
  "metadata": {
    "colab": {
      "name": "python4.ipynb",
      "provenance": []
    },
    "kernelspec": {
      "name": "python3",
      "display_name": "Python 3"
    }
  },
  "cells": [
    {
      "cell_type": "markdown",
      "metadata": {
        "id": "TYjOZFyrP4ek",
        "colab_type": "text"
      },
      "source": [
        "STRING FORMATTING"
      ]
    },
    {
      "cell_type": "code",
      "metadata": {
        "id": "MVa4u-S-P8vH",
        "colab_type": "code",
        "outputId": "9684023e-321e-4de9-b089-41a34ecfb986",
        "colab": {
          "base_uri": "https://localhost:8080/",
          "height": 52
        }
      },
      "source": [
        "name=input(\"enter your name\")\n",
        "age=input(\"enter your age\")"
      ],
      "execution_count": 0,
      "outputs": [
        {
          "output_type": "stream",
          "text": [
            "enter your nameqqqq\n",
            "enter your age111\n"
          ],
          "name": "stdout"
        }
      ]
    },
    {
      "cell_type": "code",
      "metadata": {
        "id": "ATz854eHQk5V",
        "colab_type": "code",
        "outputId": "d69ad733-ba48-492e-d2f2-7c4fc8a3c7a6",
        "colab": {
          "base_uri": "https://localhost:8080/",
          "height": 35
        }
      },
      "source": [
        "print(\"hello \"+name+ \"your age is \"+str(age))"
      ],
      "execution_count": 0,
      "outputs": [
        {
          "output_type": "stream",
          "text": [
            "hello qqqqyour age is 111\n"
          ],
          "name": "stdout"
        }
      ]
    },
    {
      "cell_type": "code",
      "metadata": {
        "id": "BwyljXQUQ07D",
        "colab_type": "code",
        "outputId": "7422785e-2a97-4807-9b6e-d686f5226ab9",
        "colab": {
          "base_uri": "https://localhost:8080/",
          "height": 35
        }
      },
      "source": [
        "print(\"hello {} your age is {}\".format(name,age))"
      ],
      "execution_count": 0,
      "outputs": [
        {
          "output_type": "stream",
          "text": [
            "hello qqqq your age is 111\n"
          ],
          "name": "stdout"
        }
      ]
    },
    {
      "cell_type": "code",
      "metadata": {
        "id": "xHcN7c0nREO3",
        "colab_type": "code",
        "outputId": "3860dc05-b62a-48da-d7ef-60abc15c84d0",
        "colab": {
          "base_uri": "https://localhost:8080/",
          "height": 35
        }
      },
      "source": [
        "print(f\"hello {name} your age is {age}\")"
      ],
      "execution_count": 0,
      "outputs": [
        {
          "output_type": "stream",
          "text": [
            "hello qqqq your age is 111\n"
          ],
          "name": "stdout"
        }
      ]
    },
    {
      "cell_type": "code",
      "metadata": {
        "id": "V8fJzsplROYV",
        "colab_type": "code",
        "colab": {}
      },
      "source": [
        ""
      ],
      "execution_count": 0,
      "outputs": []
    }
  ]
}
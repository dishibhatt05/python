{
  "nbformat": 4,
  "nbformat_minor": 0,
  "metadata": {
    "colab": {
      "name": "python5.ipynb",
      "provenance": [],
      "collapsed_sections": []
    },
    "kernelspec": {
      "name": "python3",
      "display_name": "Python 3"
    }
  },
  "cells": [
    {
      "cell_type": "code",
      "metadata": {
        "colab_type": "code",
        "id": "TJARt2AjTt-v",
        "colab": {}
      },
      "source": [
        ""
      ],
      "execution_count": 0,
      "outputs": []
    },
    {
      "cell_type": "markdown",
      "metadata": {
        "id": "JK1ISgpeSptS",
        "colab_type": "text"
      },
      "source": [
        "STRING INDEXING"
      ]
    },
    {
      "cell_type": "code",
      "metadata": {
        "id": "5HAzxvX4SsDK",
        "colab_type": "code",
        "colab": {}
      },
      "source": [
        "l=\"python\""
      ],
      "execution_count": 0,
      "outputs": []
    },
    {
      "cell_type": "code",
      "metadata": {
        "id": "v1hHEzF2S1p0",
        "colab_type": "code",
        "colab": {
          "base_uri": "https://localhost:8080/",
          "height": 35
        },
        "outputId": "91643c40-31a7-4fed-916b-9f807155cdc5"
      },
      "source": [
        "print(l[5])"
      ],
      "execution_count": 7,
      "outputs": [
        {
          "output_type": "stream",
          "text": [
            "n\n"
          ],
          "name": "stdout"
        }
      ]
    },
    {
      "cell_type": "markdown",
      "metadata": {
        "id": "CgTNZEL1Tyyw",
        "colab_type": "text"
      },
      "source": [
        "p 0      -6        \n",
        "y 1       -5            \n",
        "t 2         -4                                             \n",
        "h 3           -3                              \n",
        "o 4             -2  \n",
        "n 5                 -1"
      ]
    },
    {
      "cell_type": "markdown",
      "metadata": {
        "id": "EXRjLWSwUjng",
        "colab_type": "text"
      },
      "source": [
        "#STRING SLICING\n",
        "\n",
        "\n",
        "                  [start argument : stop argument]"
      ]
    },
    {
      "cell_type": "code",
      "metadata": {
        "id": "VPi11ifCUPXv",
        "colab_type": "code",
        "colab": {
          "base_uri": "https://localhost:8080/",
          "height": 35
        },
        "outputId": "392f547a-c691-45fe-eab5-07d7440912f1"
      },
      "source": [
        "print(l[4:5])"
      ],
      "execution_count": 8,
      "outputs": [
        {
          "output_type": "stream",
          "text": [
            "o\n"
          ],
          "name": "stdout"
        }
      ]
    },
    {
      "cell_type": "code",
      "metadata": {
        "id": "7WWdFD-oUwhb",
        "colab_type": "code",
        "colab": {
          "base_uri": "https://localhost:8080/",
          "height": 35
        },
        "outputId": "e1382a90-8c6c-464a-f270-ab2369dba63c"
      },
      "source": [
        "print(l[-4:-1])"
      ],
      "execution_count": 9,
      "outputs": [
        {
          "output_type": "stream",
          "text": [
            "tho\n"
          ],
          "name": "stdout"
        }
      ]
    },
    {
      "cell_type": "code",
      "metadata": {
        "id": "NyN5RBJhU5Y5",
        "colab_type": "code",
        "colab": {
          "base_uri": "https://localhost:8080/",
          "height": 35
        },
        "outputId": "8cddbb9f-d980-41e7-c5b2-097bf3e93219"
      },
      "source": [
        "print(l[:])"
      ],
      "execution_count": 10,
      "outputs": [
        {
          "output_type": "stream",
          "text": [
            "python\n"
          ],
          "name": "stdout"
        }
      ]
    },
    {
      "cell_type": "code",
      "metadata": {
        "id": "rBw0MSaUVDsQ",
        "colab_type": "code",
        "colab": {
          "base_uri": "https://localhost:8080/",
          "height": 35
        },
        "outputId": "7cfa750c-e1e5-4753-e192-9eea1d618033"
      },
      "source": [
        "print(l[3:])"
      ],
      "execution_count": 11,
      "outputs": [
        {
          "output_type": "stream",
          "text": [
            "hon\n"
          ],
          "name": "stdout"
        }
      ]
    },
    {
      "cell_type": "code",
      "metadata": {
        "id": "VrKjBYtXVIGL",
        "colab_type": "code",
        "colab": {
          "base_uri": "https://localhost:8080/",
          "height": 35
        },
        "outputId": "e5036658-e0e1-4c84-b3a3-0ee8fa43c90f"
      },
      "source": [
        "print(l[:-3])"
      ],
      "execution_count": 12,
      "outputs": [
        {
          "output_type": "stream",
          "text": [
            "pyt\n"
          ],
          "name": "stdout"
        }
      ]
    },
    {
      "cell_type": "code",
      "metadata": {
        "id": "zn9TPoH2VLsB",
        "colab_type": "code",
        "colab": {}
      },
      "source": [
        ""
      ],
      "execution_count": 0,
      "outputs": []
    }
  ]
}
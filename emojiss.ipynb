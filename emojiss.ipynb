{
  "nbformat": 4,
  "nbformat_minor": 0,
  "metadata": {
    "colab": {
      "name": "emojiss.ipynb",
      "provenance": []
    },
    "kernelspec": {
      "name": "python3",
      "display_name": "Python 3"
    }
  },
  "cells": [
    {
      "cell_type": "code",
      "metadata": {
        "id": "JCfHj5O7PusJ",
        "colab_type": "code",
        "colab": {}
      },
      "source": [
        ""
      ],
      "execution_count": 0,
      "outputs": []
    },
    {
      "cell_type": "markdown",
      "metadata": {
        "id": "KB64BJhgP4DW",
        "colab_type": "text"
      },
      "source": [
        "PRINT EMOJIS\n",
        "\n",
        "\n",
        "\n",
        "to print emojis we use unicode , there is special unicode for each .\n",
        "we can get these unicode online form https://home/unicode.org\n"
      ]
    },
    {
      "cell_type": "code",
      "metadata": {
        "id": "hyfOn9XRP_vF",
        "colab_type": "code",
        "colab": {
          "base_uri": "https://localhost:8080/",
          "height": 35
        },
        "outputId": "5c19fde0-3596-4a94-c8ab-57283be8a478"
      },
      "source": [
        "print(\"\\U0001F602\")"
      ],
      "execution_count": 1,
      "outputs": [
        {
          "output_type": "stream",
          "text": [
            "😂\n"
          ],
          "name": "stdout"
        }
      ]
    },
    {
      "cell_type": "code",
      "metadata": {
        "id": "i1j-CJHeQHSQ",
        "colab_type": "code",
        "colab": {}
      },
      "source": [
        ""
      ],
      "execution_count": 0,
      "outputs": []
    },
    {
      "cell_type": "markdown",
      "metadata": {
        "id": "EVqR1MJyQLLJ",
        "colab_type": "text"
      },
      "source": [
        "NOTE : here unicode is U+1F602.\n",
        "we replace + by 000 and add \\ at starting."
      ]
    },
    {
      "cell_type": "code",
      "metadata": {
        "id": "3LeHJLYbQOXb",
        "colab_type": "code",
        "colab": {
          "base_uri": "https://localhost:8080/",
          "height": 35
        },
        "outputId": "761d919e-c0dc-4af0-b24b-f54043066db8"
      },
      "source": [
        "print(\"\\U0001F604\")"
      ],
      "execution_count": 2,
      "outputs": [
        {
          "output_type": "stream",
          "text": [
            "😄\n"
          ],
          "name": "stdout"
        }
      ]
    },
    {
      "cell_type": "code",
      "metadata": {
        "id": "rxnO-MyhQRBe",
        "colab_type": "code",
        "colab": {
          "base_uri": "https://localhost:8080/",
          "height": 35
        },
        "outputId": "aa9df337-bb7e-4453-f867-7ae40693cc7b"
      },
      "source": [
        "print(\"\\U0001F618\")"
      ],
      "execution_count": 3,
      "outputs": [
        {
          "output_type": "stream",
          "text": [
            "😘\n"
          ],
          "name": "stdout"
        }
      ]
    },
    {
      "cell_type": "code",
      "metadata": {
        "id": "N8FPwpXsQS_U",
        "colab_type": "code",
        "colab": {}
      },
      "source": [
        ""
      ],
      "execution_count": 0,
      "outputs": []
    }
  ]
}
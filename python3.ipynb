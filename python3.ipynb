{
  "nbformat": 4,
  "nbformat_minor": 0,
  "metadata": {
    "colab": {
      "name": "python3.ipynb",
      "provenance": []
    },
    "kernelspec": {
      "name": "python3",
      "display_name": "Python 3"
    }
  },
  "cells": [
    {
      "cell_type": "markdown",
      "metadata": {
        "id": "sLCfb2NaOeTm",
        "colab_type": "text"
      },
      "source": [
        "more input in one line "
      ]
    },
    {
      "cell_type": "code",
      "metadata": {
        "id": "HFvwNVMzOhBv",
        "colab_type": "code",
        "colab": {}
      },
      "source": [
        "name=input(\"enter your name\")"
      ],
      "execution_count": 0,
      "outputs": []
    },
    {
      "cell_type": "code",
      "metadata": {
        "id": "BAedh-yuOlDJ",
        "colab_type": "code",
        "colab": {}
      },
      "source": [
        "age=input(\"enter your age\")\n"
      ],
      "execution_count": 0,
      "outputs": []
    },
    {
      "cell_type": "code",
      "metadata": {
        "id": "L2gIwIEvOsxn",
        "colab_type": "code",
        "outputId": "e7651816-fe99-4fc0-ae29-c5c582a7c7ad",
        "colab": {
          "base_uri": "https://localhost:8080/",
          "height": 35
        }
      },
      "source": [
        "age=int(input(\"enter your age\"))"
      ],
      "execution_count": 0,
      "outputs": [
        {
          "output_type": "stream",
          "text": [
            "enter your age23\n"
          ],
          "name": "stdout"
        }
      ]
    },
    {
      "cell_type": "code",
      "metadata": {
        "id": "FeliCZX6Owwa",
        "colab_type": "code",
        "outputId": "3eeaf9ad-19b3-41f9-e291-26e3bdaab9d1",
        "colab": {
          "base_uri": "https://localhost:8080/",
          "height": 35
        }
      },
      "source": [
        "name,age=input(\"enter your name and age\").split()\n"
      ],
      "execution_count": 0,
      "outputs": [
        {
          "output_type": "stream",
          "text": [
            "enter your name and ageqqqqq 1111\n"
          ],
          "name": "stdout"
        }
      ]
    },
    {
      "cell_type": "markdown",
      "metadata": {
        "id": "V363eBwIPKp9",
        "colab_type": "text"
      },
      "source": [
        "here input must separated"
      ]
    },
    {
      "cell_type": "code",
      "metadata": {
        "id": "U0Yw_CeKO_X6",
        "colab_type": "code",
        "outputId": "816e9bb8-08ac-4b7f-ffae-8c71d0992021",
        "colab": {
          "base_uri": "https://localhost:8080/",
          "height": 35
        }
      },
      "source": [
        "print(name)"
      ],
      "execution_count": 0,
      "outputs": [
        {
          "output_type": "stream",
          "text": [
            "qqqqq\n"
          ],
          "name": "stdout"
        }
      ]
    },
    {
      "cell_type": "code",
      "metadata": {
        "id": "BTQqqSxBPCFZ",
        "colab_type": "code",
        "outputId": "f64fabf3-78e0-4752-8e7c-e5398077dcb2",
        "colab": {
          "base_uri": "https://localhost:8080/",
          "height": 35
        }
      },
      "source": [
        "print(age)"
      ],
      "execution_count": 0,
      "outputs": [
        {
          "output_type": "stream",
          "text": [
            "1111\n"
          ],
          "name": "stdout"
        }
      ]
    },
    {
      "cell_type": "code",
      "metadata": {
        "id": "pnqdj67FPdXt",
        "colab_type": "code",
        "colab": {}
      },
      "source": [
        ""
      ],
      "execution_count": 0,
      "outputs": []
    }
  ]
}